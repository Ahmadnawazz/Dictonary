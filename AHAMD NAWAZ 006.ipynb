{
 "cells": [
  {
   "cell_type": "code",
   "execution_count": 2,
   "id": "c6d66bdf-1a4a-4626-90d1-15cb88303186",
   "metadata": {},
   "outputs": [
    {
     "name": "stdout",
     "output_type": "stream",
     "text": [
      "{'name': 'Alice', 'age': 30, 'city': 'New York', 'hobbies': ['reading', 'cycling', 'painting']}\n"
     ]
    }
   ],
   "source": [
    "#a)\n",
    "person = {\n",
    "    \"name\": \"Alice\",\n",
    "    \"age\": 30,\n",
    "    \"city\": \"New York\",\n",
    "    \"hobbies\": [\"reading\", \"cycling\", \"painting\"]\n",
    "}\n",
    "print(person)"
   ]
  },
  {
   "cell_type": "code",
   "execution_count": 3,
   "id": "a3f4d4d2-5ca3-4126-b3e2-1982322f2b94",
   "metadata": {},
   "outputs": [
    {
     "name": "stdout",
     "output_type": "stream",
     "text": [
      "{'hello': 2, 'world': 1, 'everyone': 1}\n"
     ]
    }
   ],
   "source": [
    "#b)\n",
    "text = \"hello world hello everyone\"\n",
    "words = text.split()\n",
    "word_count = {}\n",
    "\n",
    "for word in words:\n",
    "    word_count[word] = word_count.get(word, 0) + 1\n",
    "\n",
    "print(word_count)"
   ]
  },
  {
   "cell_type": "code",
   "execution_count": 4,
   "id": "4740a5be-5a83-43cc-b052-6f438f66d70e",
   "metadata": {},
   "outputs": [
    {
     "name": "stdout",
     "output_type": "stream",
     "text": [
      "Inventory: {'apple': 15, 'banana': 3, 'orange': 8}\n"
     ]
    }
   ],
   "source": [
    "#c)\n",
    "inventory = {\n",
    "    \"apple\": 10,\n",
    "    \"banana\": 5,\n",
    "    \"orange\": 8\n",
    "}\n",
    "\n",
    "if \"apple\" in inventory:\n",
    "    inventory[\"apple\"] += 5\n",
    "else:\n",
    "    inventory[\"apple\"] = 5\n",
    "\n",
    "if \"banana\" in inventory and inventory[\"banana\"] >= 2:\n",
    "    inventory[\"banana\"] -= 2\n",
    "else:\n",
    "    print(\"Not enough bananas to remove.\")\n",
    "\n",
    "print(\"Inventory:\", inventory)"
   ]
  },
  {
   "cell_type": "code",
   "execution_count": 5,
   "id": "9d24ba15-5494-4478-a2e5-7759f4387aaa",
   "metadata": {},
   "outputs": [
    {
     "name": "stdout",
     "output_type": "stream",
     "text": [
      "Most popular category: Electronics\n"
     ]
    }
   ],
   "source": [
    "#d)\n",
    "orders = [\n",
    "    {\"product\": \"Laptop\", \"category\": \"Electronics\"},\n",
    "    {\"product\": \"Headphones\", \"category\": \"Electronics\"},\n",
    "    {\"product\": \"T-shirt\", \"category\": \"Clothing\"},\n",
    "    {\"product\": \"Jeans\", \"category\": \"Clothing\"},\n",
    "    {\"product\": \"Phone\", \"category\": \"Electronics\"},\n",
    "]\n",
    "\n",
    "category_count = {}\n",
    "for order in orders:\n",
    "    cat = order[\"category\"]\n",
    "    category_count[cat] = category_count.get(cat, 0) + 1\n",
    "\n",
    "most_popular = max(category_count, key=category_count.get)\n",
    "print(\"Most popular category:\", most_popular)"
   ]
  },
  {
   "cell_type": "code",
   "execution_count": 6,
   "id": "ff9ed36f-eb70-4405-b41e-776dfc163316",
   "metadata": {},
   "outputs": [
    {
     "name": "stdout",
     "output_type": "stream",
     "text": [
      "Alice's average grade: 84.33\n",
      "Bob's average grade: 83.33\n",
      "Charlie's average grade: 97.67\n"
     ]
    }
   ],
   "source": [
    "#e)\n",
    "grades = {\n",
    "    \"Alice\": [85, 90, 78],\n",
    "    \"Bob\": [70, 88, 92],\n",
    "    \"Charlie\": [95, 100, 98]\n",
    "}\n",
    "\n",
    "for student, marks in grades.items():\n",
    "    avg = sum(marks) / len(marks)\n",
    "    print(f\"{student}'s average grade: {avg:.2f}\")"
   ]
  },
  {
   "cell_type": "code",
   "execution_count": 7,
   "id": "949d8713-021a-490e-a1b7-100a5c9682c0",
   "metadata": {},
   "outputs": [
    {
     "name": "stdout",
     "output_type": "stream",
     "text": [
      "Total inventory value: 225.0\n",
      "Low stock items: {'notebook': {'quantity': 30, 'price': 3.0}}\n"
     ]
    }
   ],
   "source": [
    "#f)\n",
    "inventory = {}\n",
    "\n",
    "inventory[\"pen\"] = {\"quantity\": 100, \"price\": 1.5}\n",
    "inventory[\"notebook\"] = {\"quantity\": 30, \"price\": 3.0}\n",
    "\n",
    "inventory[\"pen\"][\"quantity\"] -= 10\n",
    "\n",
    "total_value = 0\n",
    "for item in inventory.values():\n",
    "    total_value += item[\"quantity\"] * item[\"price\"]\n",
    "\n",
    "threshold = 50\n",
    "low_stock = {}\n",
    "for name, item in inventory.items():\n",
    "    if item[\"quantity\"] < threshold:\n",
    "        low_stock[name] = item\n",
    "\n",
    "print(\"Total inventory value:\", total_value)\n",
    "print(\"Low stock items:\", low_stock)"
   ]
  },
  {
   "cell_type": "code",
   "execution_count": 8,
   "id": "97d57198-9337-4d32-a5b0-d15859a9a38f",
   "metadata": {},
   "outputs": [
    {
     "name": "stdout",
     "output_type": "stream",
     "text": [
      "Alice's average: 87.50\n",
      "Bob's average: 72.50\n",
      "Charlie's average: 87.50\n",
      "Highest in Math: Charlie\n",
      "Lowest in Math: Bob\n"
     ]
    }
   ],
   "source": [
    "#g)\n",
    "students = {\n",
    "    \"Alice\": {\"Math\": 90, \"English\": 85},\n",
    "    \"Bob\": {\"Math\": 70, \"English\": 75},\n",
    "    \"Charlie\": {\"Math\": 95, \"English\": 80}\n",
    "}\n",
    "\n",
    "for name, subjects in students.items():\n",
    "    avg = sum(subjects.values()) / len(subjects)\n",
    "    print(f\"{name}'s average: {avg:.2f}\")\n",
    "\n",
    "subject = \"Math\"\n",
    "grades_in_subject = {name: data[subject] for name, data in students.items()}\n",
    "highest = max(grades_in_subject, key=grades_in_subject.get)\n",
    "lowest = min(grades_in_subject, key=grades_in_subject.get)\n",
    "print(f\"Highest in {subject}: {highest}\")\n",
    "print(f\"Lowest in {subject}: {lowest}\")"
   ]
  },
  {
   "cell_type": "code",
   "execution_count": 9,
   "id": "9181ac0c-dc5b-4bf1-b765-85eb1162ed0a",
   "metadata": {},
   "outputs": [
    {
     "name": "stdout",
     "output_type": "stream",
     "text": [
      "Final amount: 1076.4\n"
     ]
    }
   ],
   "source": [
    "#h)\n",
    "products = {\n",
    "    \"laptop\": {\"price\": 1000, \"quantity\": 10},\n",
    "    \"mouse\": {\"price\": 20, \"quantity\": 100}\n",
    "}\n",
    "\n",
    "cart = {}\n",
    "\n",
    "if \"laptop\" in products and products[\"laptop\"][\"quantity\"] >= 1:\n",
    "    cart[\"laptop\"] = cart.get(\"laptop\", 0) + 1\n",
    "\n",
    "if \"mouse\" in products and products[\"mouse\"][\"quantity\"] >= 2:\n",
    "    cart[\"mouse\"] = cart.get(\"mouse\", 0) + 2\n",
    "    \n",
    "total = 0\n",
    "for item in cart:\n",
    "    total += products[item][\"price\"] * cart[item]\n",
    "\n",
    "discount = 0\n",
    "if total > 500:\n",
    "    discount = 0.1 * total\n",
    "\n",
    "tax = 0.15 * (total - discount)\n",
    "final_total = total - discount + tax\n",
    "\n",
    "print(\"Final amount:\", final_total)"
   ]
  },
  {
   "cell_type": "code",
   "execution_count": null,
   "id": "af1ff068-afc7-439a-98a2-ff49aa3b0aa7",
   "metadata": {},
   "outputs": [],
   "source": []
  }
 ],
 "metadata": {
  "kernelspec": {
   "display_name": "Python 3 (ipykernel)",
   "language": "python",
   "name": "python3"
  },
  "language_info": {
   "codemirror_mode": {
    "name": "ipython",
    "version": 3
   },
   "file_extension": ".py",
   "mimetype": "text/x-python",
   "name": "python",
   "nbconvert_exporter": "python",
   "pygments_lexer": "ipython3",
   "version": "3.12.7"
  }
 },
 "nbformat": 4,
 "nbformat_minor": 5
}
